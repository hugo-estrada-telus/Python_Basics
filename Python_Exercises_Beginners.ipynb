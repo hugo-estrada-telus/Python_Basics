{
 "cells": [
  {
   "cell_type": "code",
   "execution_count": 4,
   "metadata": {},
   "outputs": [
    {
     "data": {
      "text/plain": [
       "[2, 2, 5, 5, 5]"
      ]
     },
     "execution_count": 4,
     "metadata": {},
     "output_type": "execute_result"
    }
   ],
   "source": [
    "### 1. find prime factors\n",
    "\n",
    "def prime_factors(n):\n",
    "    factors = list()\n",
    "    divisor = 2\n",
    "    while(divisor <= n):\n",
    "        if(n % divisor) == 0:\n",
    "            factors.append(divisor)\n",
    "            n = n/divisor\n",
    "        else:\n",
    "            divisor += 1\n",
    "    return  factors\n",
    "\n",
    "### calling the function\n",
    "\n",
    "prime_factors(500)"
   ]
  },
  {
   "cell_type": "code",
   "execution_count": 8,
   "metadata": {},
   "outputs": [
    {
     "data": {
      "text/plain": [
       "False"
      ]
     },
     "execution_count": 8,
     "metadata": {},
     "output_type": "execute_result"
    }
   ],
   "source": [
    "### 2. Identifying palindromes\n",
    "\n",
    "import re\n",
    "\n",
    "def palindromes(string):\n",
    "    forwards = ''.join(re.findall(r'[a-z]+', string.lower()))\n",
    "    backwards = forwards[::-1]\n",
    "    return forwards == backwards\n",
    "\n",
    "### calling the function\n",
    "\n",
    "string = 'hugo'\n",
    "palindromes(string)"
   ]
  },
  {
   "cell_type": "code",
   "execution_count": 11,
   "metadata": {},
   "outputs": [
    {
     "data": {
      "text/plain": [
       "'a alphabetically is list not of sorted this words'"
      ]
     },
     "execution_count": 11,
     "metadata": {},
     "output_type": "execute_result"
    }
   ],
   "source": [
    "### 3. Sort a string\n",
    "\n",
    "def sorted(strings):\n",
    "    words = strings.split()\n",
    "    words = [w.lower() + w for w in words]\n",
    "    words.sort()\n",
    "    words = [w[len(w)//2:] for w in words]\n",
    "    return ' '.join(words)\n",
    "\n",
    "### calling the function\n",
    "\n",
    "sorted(\"this is a list of words not sorted alphabetically\")"
   ]
  },
  {
   "cell_type": "code",
   "execution_count": 15,
   "metadata": {},
   "outputs": [
    {
     "name": "stdout",
     "output_type": "stream",
     "text": [
      "\\Your target time is 2 seconds\n"
     ]
    },
    {
     "name": "stdin",
     "output_type": "stream",
     "text": [
      " --- Press Enter to Begin --- \n",
      "\n",
      "... Press Enter again after 2 seconds... \n"
     ]
    },
    {
     "name": "stdout",
     "output_type": "stream",
     "text": [
      "\n",
      "Elapsed time: 2.869 seconds\n",
      "0.869 seconds too slow\n"
     ]
    }
   ],
   "source": [
    "#### 4. Waiting Game\n",
    "\n",
    "import time\n",
    "import random\n",
    "\n",
    "def waiting():\n",
    "    target = random.randint(2,4)\n",
    "    print('\\Your target time is {} seconds'.format(target))\n",
    "    \n",
    "    input (' --- Press Enter to Begin ---')\n",
    "    start = time.perf_counter()\n",
    "    \n",
    "    input ('\\n... Press Enter again after {} seconds...'.format(target))\n",
    "    elapsed = time.perf_counter() - start\n",
    "    \n",
    "    print('\\nElapsed time: {0:.3f} seconds'.format(elapsed))\n",
    "    if elapsed == target:\n",
    "        print(\"Perfect timing.\")\n",
    "    elif elapsed < target:\n",
    "        print('{0:.3f} seconds too fast'.format(target - elapsed))\n",
    "    else:\n",
    "        print('{0:.3f} seconds too slow'.format(elapsed - target))\n",
    "        \n",
    "### playing\n",
    "waiting()"
   ]
  },
  {
   "cell_type": "code",
   "execution_count": 19,
   "metadata": {},
   "outputs": [
    {
     "data": {
      "text/plain": [
       "'wg lisle moran anise balmy'"
      ]
     },
     "execution_count": 19,
     "metadata": {},
     "output_type": "execute_result"
    }
   ],
   "source": [
    "### 5. Generating a nw password\n",
    "\n",
    "import secrets\n",
    "def passphrase(n):\n",
    "    with open('diceware.wordlist.asc', 'r') as file:\n",
    "        lines = file.readlines()[2:7778]\n",
    "        word_list = [line.split()[1] for line in lines]\n",
    "        \n",
    "        words = [secrets.choice(word_list) for i in range(n)]\n",
    "        return ' '.join(words)\n",
    "    \n",
    "### calling the function\n",
    "passphrase(5)"
   ]
  },
  {
   "cell_type": "code",
   "execution_count": null,
   "metadata": {},
   "outputs": [],
   "source": []
  }
 ],
 "metadata": {
  "environment": {
   "name": "tf2-2-3-gpu.2-3.m58",
   "type": "gcloud",
   "uri": "gcr.io/deeplearning-platform-release/tf2-2-3-gpu.2-3:m58"
  },
  "kernelspec": {
   "display_name": "Python 3",
   "language": "python",
   "name": "python3"
  },
  "language_info": {
   "codemirror_mode": {
    "name": "ipython",
    "version": 3
   },
   "file_extension": ".py",
   "mimetype": "text/x-python",
   "name": "python",
   "nbconvert_exporter": "python",
   "pygments_lexer": "ipython3",
   "version": "3.7.8"
  }
 },
 "nbformat": 4,
 "nbformat_minor": 4
}
